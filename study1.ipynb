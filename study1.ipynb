{
 "cells": [
  {
   "cell_type": "markdown",
   "metadata": {},
   "source": [
    "#### Edureka\n",
    "\n",
    "\n",
    "https://www.edureka.co/blog/interview-questions/python-interview-questions/#basicinterviewquestions"
   ]
  },
  {
   "cell_type": "markdown",
   "metadata": {},
   "source": [
    "#### interviewbit\n",
    "\n",
    "https://www.interviewbit.com/python-interview-questions/"
   ]
  },
  {
   "cell_type": "raw",
   "metadata": {},
   "source": [
    "## 18/04 - 18/05\n",
    "NLP:\n",
    "Natural language processing fundamentals\n",
    "Python Natural Language processing \n",
    "Hands on Natural Language processing\n",
    "Natural Language processing with python cookbook\n",
    "Deep Learning for Natural Language processing\n",
    "\n",
    "Python:\n",
    "Python fundamentals\n",
    "Python data structures\n",
    "Clean Code in Python - Second Edition\n",
    "https://github.com/manishbisht/Competitive-Programming/tree/master/Hackerrank_python\n",
    "Hands-on data structures and algorithms with python\n",
    "Python3 object oriented programming"
   ]
  },
  {
   "cell_type": "markdown",
   "metadata": {},
   "source": [
    "#### Data-flair\n",
    "\n",
    "https://data-flair.training/blogs/top-python-interview-questions-answer/"
   ]
  },
  {
   "cell_type": "markdown",
   "metadata": {},
   "source": [
    "- Deep Learning Book\n",
    "- Andrew tasks 11 line python\n",
    "- CNN coursera,Andrew karpov EES,C231n convolutional neural network\n",
    "- CS20\n",
    "- CS294\n",
    "- CS231n\n",
    "- c131\n",
    "- cs231a\n",
    "- cs224n\n",
    "- cs230"
   ]
  },
  {
   "cell_type": "markdown",
   "metadata": {},
   "source": [
    "- reddit,Twitter\n",
    "- Hacker News"
   ]
  },
  {
   "cell_type": "markdown",
   "metadata": {},
   "source": [
    "### NLP\n",
    "- Python natural language processing cookbook\n",
    "- Transformers for natural language processing\n",
    "- Mastering spacy\n",
    "- Hands on natural language processing with pytorch\n",
    "- Getting start with google bert\n",
    "- Mastering natural language processing\n",
    "- natural language processing with python cookbook\n",
    "- natual language processing and computational linguestics\n",
    "- natural language processing with real world projects\n",
    "- Hands on  natural language prcoessing with pytorch"
   ]
  }
 ],
 "metadata": {
  "kernelspec": {
   "display_name": "Python 3",
   "language": "python",
   "name": "python3"
  },
  "language_info": {
   "codemirror_mode": {
    "name": "ipython",
    "version": 3
   },
   "file_extension": ".py",
   "mimetype": "text/x-python",
   "name": "python",
   "nbconvert_exporter": "python",
   "pygments_lexer": "ipython3",
   "version": "3.8.5"
  }
 },
 "nbformat": 4,
 "nbformat_minor": 4
}
